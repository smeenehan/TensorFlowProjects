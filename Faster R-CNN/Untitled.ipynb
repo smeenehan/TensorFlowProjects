{
 "cells": [
  {
   "cell_type": "code",
   "execution_count": 24,
   "metadata": {},
   "outputs": [],
   "source": [
    "from backbone import ResNet\n",
    "import matplotlib.pyplot as plt\n",
    "import numpy as np\n",
    "from region_proposal import RPN, ProposalLayer\n",
    "from resnet_var_dict import resnet_var_dict\n",
    "import skimage\n",
    "from skimage import io, transform\n",
    "import tensorflow as tf\n",
    "from utils import generate_anchors"
   ]
  },
  {
   "cell_type": "code",
   "execution_count": 2,
   "metadata": {},
   "outputs": [],
   "source": [
    "tf.enable_eager_execution()"
   ]
  },
  {
   "cell_type": "code",
   "execution_count": 3,
   "metadata": {},
   "outputs": [],
   "source": [
    "backbone = ResNet('channels_last', num_blocks=[3, 4, 6, 3], include_fc=False)\n",
    "rpn_graph = RPN('channels_last')\n",
    "proposer = ProposalLayer()"
   ]
  },
  {
   "cell_type": "code",
   "execution_count": 4,
   "metadata": {},
   "outputs": [],
   "source": [
    "real_picture_1 = io.imread('./example_data/imagenet_tabby_cat_1.jpg').astype('float32')\n",
    "real_picture_2 = io.imread('./example_data/imagenet_tabby_cat_3.jpg').astype('float32')\n",
    "input_data = tf.convert_to_tensor(np.stack([real_picture_1, real_picture_2]))"
   ]
  },
  {
   "cell_type": "code",
   "execution_count": 5,
   "metadata": {},
   "outputs": [],
   "source": [
    "feature_maps = backbone(input_data)\n",
    "rpn_logits, rpn_probs, rpn_boxes = rpn_graph(feature_maps)"
   ]
  },
  {
   "cell_type": "code",
   "execution_count": 54,
   "metadata": {},
   "outputs": [],
   "source": [
    "anchors = generate_anchors([32, 64, 128], [0.5, 1, 1.5], \n",
    "                           tf.shape(input_data)[1:3],\n",
    "                           tf.shape(feature_maps)[1:3], 1)\n",
    "anchors = tf.tile(tf.expand_dims(anchors,0), [tf.shape(input_data)[0], 1, 1])"
   ]
  },
  {
   "cell_type": "code",
   "execution_count": 96,
   "metadata": {},
   "outputs": [],
   "source": [
    "rois = proposer([rpn_probs, rpn_boxes, anchors])"
   ]
  },
  {
   "cell_type": "code",
   "execution_count": null,
   "metadata": {},
   "outputs": [],
   "source": []
  }
 ],
 "metadata": {
  "kernelspec": {
   "display_name": "Python 3",
   "language": "python",
   "name": "python3"
  },
  "language_info": {
   "codemirror_mode": {
    "name": "ipython",
    "version": 3
   },
   "file_extension": ".py",
   "mimetype": "text/x-python",
   "name": "python",
   "nbconvert_exporter": "python",
   "pygments_lexer": "ipython3",
   "version": "3.6.5"
  }
 },
 "nbformat": 4,
 "nbformat_minor": 2
}
