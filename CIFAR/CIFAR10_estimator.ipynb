{
 "cells": [
  {
   "cell_type": "code",
   "execution_count": 2,
   "metadata": {},
   "outputs": [
    {
     "name": "stderr",
     "output_type": "stream",
     "text": [
      "c:\\users\\smmeenehan\\appdata\\local\\programs\\python\\python36\\lib\\site-packages\\h5py\\__init__.py:36: FutureWarning: Conversion of the second argument of issubdtype from `float` to `np.floating` is deprecated. In future, it will be treated as `np.float64 == np.dtype(float).type`.\n",
      "  from ._conv import register_converters as _register_converters\n"
     ]
    },
    {
     "name": "stdout",
     "output_type": "stream",
     "text": [
      "WARNING:tensorflow:From c:\\users\\smmeenehan\\appdata\\local\\programs\\python\\python36\\lib\\site-packages\\tensorflow\\contrib\\learn\\python\\learn\\datasets\\base.py:198: retry (from tensorflow.contrib.learn.python.learn.datasets.base) is deprecated and will be removed in a future version.\n",
      "Instructions for updating:\n",
      "Use the retry module or similar alternatives.\n"
     ]
    }
   ],
   "source": [
    "from model import model_fn\n",
    "import tensorflow as tf\n",
    "import utils\n",
    "%matplotlib inline"
   ]
  },
  {
   "cell_type": "code",
   "execution_count": 3,
   "metadata": {},
   "outputs": [],
   "source": [
    "tf.logging.set_verbosity(tf.logging.WARN)"
   ]
  },
  {
   "cell_type": "code",
   "execution_count": 4,
   "metadata": {},
   "outputs": [],
   "source": [
    "_, data_format = utils.device_and_data_format()\n",
    "train_data, val_data, test_data, x_test_raw = utils.get_CIFAR10_data(data_format)\n",
    "\n",
    "train_input_fn = lambda : train_data.make_one_shot_iterator().get_next()\n",
    "val_input_fn = lambda : val_data.make_one_shot_iterator().get_next()\n",
    "test_input_fn = lambda : test_data.make_one_shot_iterator().get_next()"
   ]
  },
  {
   "cell_type": "code",
   "execution_count": 5,
   "metadata": {},
   "outputs": [],
   "source": [
    "model_dir = 'summaries/estimator_test'\n",
    "params = {'learning_rate': 0.01, 'reg_scale': 0.0001, 'data_format': data_format}\n",
    "estimator = tf.estimator.Estimator(model_fn, model_dir=model_dir, params=params)"
   ]
  },
  {
   "cell_type": "code",
   "execution_count": 6,
   "metadata": {},
   "outputs": [
    {
     "name": "stdout",
     "output_type": "stream",
     "text": [
      "\n",
      "Train time for epoch #1: 40.246000\n",
      "\n",
      "Eval time for epoch #1: 10.777000\n",
      "\n",
      "Train time for epoch #2: 45.127000\n",
      "\n",
      "Eval time for epoch #2: 10.476000\n",
      "\n",
      "Train time for epoch #3: 39.499000\n",
      "\n",
      "Eval time for epoch #3: 9.482000\n",
      "\n",
      "Train time for epoch #4: 40.581000\n",
      "\n",
      "Eval time for epoch #4: 9.972000\n",
      "\n",
      "Train time for epoch #5: 40.815000\n",
      "\n",
      "Eval time for epoch #5: 11.034000\n",
      "\n",
      "Total time for 5 epochs: 258.016000\n"
     ]
    }
   ],
   "source": [
    "# train_spec = tf.estimator.TrainSpec(input_fn=val_input_fn)\n",
    "# val_spec = tf.estimator.EvalSpec(input_fn=val_input_fn)\n",
    "# tf.estimator.train_and_evaluate(estimator, train_spec, val_spec)\n",
    "import time\n",
    "num_epochs = 5\n",
    "big_start = time.time()\n",
    "for idx in range(num_epochs):\n",
    "    start = time.time()\n",
    "    estimator.train(val_input_fn)\n",
    "    end = time.time()\n",
    "    print('\\nTrain time for epoch #%d: %f' % (idx+1, end-start))\n",
    "    start = time.time()\n",
    "    estimator.evaluate(val_input_fn)\n",
    "    end = time.time()\n",
    "    print('\\nEval time for epoch #%d: %f' % (idx+1, end-start))\n",
    "big_end = time.time()\n",
    "print('\\nTotal time for %d epochs: %f' % (num_epochs, big_end-big_start))"
   ]
  },
  {
   "cell_type": "code",
   "execution_count": null,
   "metadata": {},
   "outputs": [],
   "source": []
  }
 ],
 "metadata": {
  "kernelspec": {
   "display_name": "Python 3",
   "language": "python",
   "name": "python3"
  },
  "language_info": {
   "codemirror_mode": {
    "name": "ipython",
    "version": 3
   },
   "file_extension": ".py",
   "mimetype": "text/x-python",
   "name": "python",
   "nbconvert_exporter": "python",
   "pygments_lexer": "ipython3",
   "version": "3.6.5"
  }
 },
 "nbformat": 4,
 "nbformat_minor": 2
}
