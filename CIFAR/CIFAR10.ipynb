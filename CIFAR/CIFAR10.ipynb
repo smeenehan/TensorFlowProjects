{
 "cells": [
  {
   "cell_type": "code",
   "execution_count": 48,
   "metadata": {},
   "outputs": [],
   "source": [
    "from model import ResNet, ResBlock\n",
    "import tensorflow as tf\n",
    "import tensorflow.contrib.eager as tfe\n",
    "import utils\n",
    "%matplotlib inline"
   ]
  },
  {
   "cell_type": "code",
   "execution_count": 3,
   "metadata": {},
   "outputs": [],
   "source": [
    "eager_mode = True\n",
    "if eager_mode:\n",
    "    tf.enable_eager_execution()\n",
    "device, data_format = utils.device_and_data_format()\n",
    "x_train, y_train, x_val, y_val, x_test, y_test, x_test_raw = utils.get_CIFAR10_data(data_format)"
   ]
  },
  {
   "cell_type": "code",
   "execution_count": 4,
   "metadata": {},
   "outputs": [
    {
     "data": {
      "image/png": "[encoded data removed]",
      "text/plain": [
       "<Figure size 432x288 with 1 Axes>"
      ]
     },
     "metadata": {},
     "output_type": "display_data"
    },
    {
     "name": "stdout",
     "output_type": "stream",
     "text": [
      "Truth: cat\n"
     ]
    }
   ],
   "source": [
    "utils.show_random_image(x_test_raw, y_test)"
   ]
  },
  {
   "cell_type": "code",
   "execution_count": 90,
   "metadata": {},
   "outputs": [],
   "source": [
    "model = ResNet(data_format)"
   ]
  },
  {
   "cell_type": "code",
   "execution_count": 91,
   "metadata": {},
   "outputs": [],
   "source": [
    "data = x_train[:32,:]\n",
    "tf_data = tf.convert_to_tensor(data)\n",
    "logits = model(tf_data, training=True)"
   ]
  },
  {
   "cell_type": "code",
   "execution_count": 52,
   "metadata": {},
   "outputs": [],
   "source": [
    "def loss_func(net, x, y):\n",
    "    logits = net(x)\n",
    "    return tf.losses.sparse_softmax_cross_entropy(y, logits)"
   ]
  },
  {
   "cell_type": "code",
   "execution_count": 55,
   "metadata": {},
   "outputs": [
    {
     "data": {
      "text/plain": [
       "<tf.Tensor: id=6597, shape=(), dtype=float32, numpy=26.694336>"
      ]
     },
     "execution_count": 55,
     "metadata": {},
     "output_type": "execute_result"
    }
   ],
   "source": [
    "x = tf.convert_to_tensor(x_train[:32,:])\n",
    "y = tf.convert_to_tensor(y_train[:32], dtype='int32')\n",
    "loss_func(model, x, y)"
   ]
  },
  {
   "cell_type": "code",
   "execution_count": 62,
   "metadata": {},
   "outputs": [],
   "source": [
    "optimizer = tf.train.GradientDescentOptimizer(learning_rate=0.1)\n",
    "optimizer.minimize(lambda: loss_func(model, x, y))"
   ]
  },
  {
   "cell_type": "code",
   "execution_count": 71,
   "metadata": {},
   "outputs": [
    {
     "data": {
      "text/plain": [
       "<tf.Tensor: id=7553, shape=(), dtype=float32, numpy=85.12659>"
      ]
     },
     "execution_count": 71,
     "metadata": {},
     "output_type": "execute_result"
    }
   ],
   "source": [
    "tf.reduce_sum((new_init_weights[0]-old_init_weights[0])**2)"
   ]
  },
  {
   "cell_type": "code",
   "execution_count": 76,
   "metadata": {},
   "outputs": [
    {
     "data": {
      "text/plain": [
       "<tf.Tensor: id=7573, shape=(), dtype=float32, numpy=22.987762>"
      ]
     },
     "execution_count": 76,
     "metadata": {},
     "output_type": "execute_result"
    }
   ],
   "source": [
    "tf.reduce_sum((new_res_weights[18]-old_res_weights[18])**2)"
   ]
  },
  {
   "cell_type": "code",
   "execution_count": 92,
   "metadata": {},
   "outputs": [
    {
     "name": "stdout",
     "output_type": "stream",
     "text": [
      "_________________________________________________________________\n",
      "Layer (type)                 Output Shape              Param #   \n",
      "=================================================================\n",
      "conv_init (Conv2D)           ?                         448       \n",
      "_________________________________________________________________\n",
      "res_block_49 (ResBlock)      ?                         3872      \n",
      "_________________________________________________________________\n",
      "res_block_50 (ResBlock)      ?                         3648      \n",
      "_________________________________________________________________\n",
      "res_block_51 (ResBlock)      ?                         3648      \n",
      "_________________________________________________________________\n",
      "res_block_52 (ResBlock)      ?                         14912     \n",
      "_________________________________________________________________\n",
      "res_block_53 (ResBlock)      ?                         13952     \n",
      "_________________________________________________________________\n",
      "res_block_54 (ResBlock)      ?                         13952     \n",
      "_________________________________________________________________\n",
      "res_block_55 (ResBlock)      ?                         58496     \n",
      "_________________________________________________________________\n",
      "res_block_56 (ResBlock)      ?                         54528     \n",
      "_________________________________________________________________\n",
      "res_block_57 (ResBlock)      ?                         54528     \n",
      "_________________________________________________________________\n",
      "flatten_6 (Flatten)          ?                         0         \n",
      "_________________________________________________________________\n",
      "fc (Dense)                   ?                         1290      \n",
      "=================================================================\n",
      "Total params: 223,274\n",
      "Trainable params: 220,810\n",
      "Non-trainable params: 2,464\n",
      "_________________________________________________________________\n"
     ]
    }
   ],
   "source": [
    "model.summary()"
   ]
  },
  {
   "cell_type": "code",
   "execution_count": null,
   "metadata": {},
   "outputs": [],
   "source": []
  }
 ],
 "metadata": {
  "kernelspec": {
   "display_name": "Python 3",
   "language": "python",
   "name": "python3"
  }
 },
 "nbformat": 4,
 "nbformat_minor": 2
}
