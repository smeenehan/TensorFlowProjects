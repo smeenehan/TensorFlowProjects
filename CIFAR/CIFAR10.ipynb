{
 "cells": [
  {
   "cell_type": "markdown",
   "metadata": {
    "colab_type": "text",
    "id": "-SOJmoD3v-sX"
   },
   "source": [
    "First, some setup code, so we can run this on Colab. No need to run this on a local machine."
   ]
  },
  {
   "cell_type": "code",
   "execution_count": 2,
   "metadata": {
    "colab": {
     "autoexec": {
      "startup": false,
      "wait_interval": 0
     },
     "base_uri": "https://localhost:8080/",
     "height": 51
    },
    "colab_type": "code",
    "executionInfo": {
     "elapsed": 1346,
     "status": "ok",
     "timestamp": 1524174062674,
     "user": {
      "displayName": "Sean Meenehan",
      "photoUrl": "https://lh3.googleusercontent.com/a/default-user=s128",
      "userId": "117279036100622224537"
     },
     "user_tz": 420
    },
    "id": "2HukOiMRr-ra",
    "outputId": "648b6313-68bc-476b-eec0-4b02d8cb7fe0"
   },
   "outputs": [
    {
     "name": "stdout",
     "output_type": "stream",
     "text": [
      "fatal: destination path 'TensorFlowProjects' already exists and is not an empty directory.\r\n",
      "/content/TensorFlowProjects/CIFAR\n"
     ]
    }
   ],
   "source": [
    "!git clone https://github.com/smeenehan/TensorFlowProjects.git"
   ]
  },
  {
   "cell_type": "code",
   "execution_count": 3,
   "metadata": {
    "colab": {
     "autoexec": {
      "startup": false,
      "wait_interval": 0
     },
     "base_uri": "https://localhost:8080/",
     "height": 34
    },
    "colab_type": "code",
    "executionInfo": {
     "elapsed": 506,
     "status": "ok",
     "timestamp": 1524177027467,
     "user": {
      "displayName": "Sean Meenehan",
      "photoUrl": "https://lh3.googleusercontent.com/a/default-user=s128",
      "userId": "117279036100622224537"
     },
     "user_tz": 420
    },
    "id": "4t0qJDMi3kQR",
    "outputId": "3337c219-f09f-4eef-c73c-a0f997d96f89"
   },
   "outputs": [
    {
     "name": "stdout",
     "output_type": "stream",
     "text": [
      "/content/TensorFlowProjects/CIFAR\n"
     ]
    }
   ],
   "source": [
    "%cd TensorFlowProjects/CIFAR"
   ]
  },
  {
   "cell_type": "code",
   "execution_count": 1,
   "metadata": {
    "colab": {
     "autoexec": {
      "startup": false,
      "wait_interval": 0
     }
    },
    "colab_type": "code",
    "id": "d2P8FDMZry1e"
   },
   "outputs": [
    {
     "name": "stderr",
     "output_type": "stream",
     "text": [
      "c:\\users\\smmeenehan\\appdata\\local\\programs\\python\\python36\\lib\\site-packages\\h5py\\__init__.py:36: FutureWarning: Conversion of the second argument of issubdtype from `float` to `np.floating` is deprecated. In future, it will be treated as `np.float64 == np.dtype(float).type`.\n",
      "  from ._conv import register_converters as _register_converters\n"
     ]
    },
    {
     "name": "stdout",
     "output_type": "stream",
     "text": [
      "WARNING:tensorflow:From c:\\users\\smmeenehan\\appdata\\local\\programs\\python\\python36\\lib\\site-packages\\tensorflow\\contrib\\learn\\python\\learn\\datasets\\base.py:198: retry (from tensorflow.contrib.learn.python.learn.datasets.base) is deprecated and will be removed in a future version.\n",
      "Instructions for updating:\n",
      "Use the retry module or similar alternatives.\n"
     ]
    }
   ],
   "source": [
    "from model import ResNet, compute_accuracy\n",
    "import tensorflow as tf\n",
    "import tensorflow.contrib.eager as tfe\n",
    "from train import ModelTrainer\n",
    "import utils\n",
    "%matplotlib inline"
   ]
  },
  {
   "cell_type": "code",
   "execution_count": 2,
   "metadata": {
    "colab": {
     "autoexec": {
      "startup": false,
      "wait_interval": 0
     }
    },
    "colab_type": "code",
    "id": "sYChRHNMry1t"
   },
   "outputs": [],
   "source": [
    "eager_mode = True\n",
    "if eager_mode:\n",
    "    tf.enable_eager_execution()"
   ]
  },
  {
   "cell_type": "code",
   "execution_count": 3,
   "metadata": {},
   "outputs": [],
   "source": [
    "tf.reset_default_graph()"
   ]
  },
  {
   "cell_type": "code",
   "execution_count": 3,
   "metadata": {
    "colab": {
     "autoexec": {
      "startup": false,
      "wait_interval": 0
     }
    },
    "colab_type": "code",
    "id": "8LM4_Yjrry1y"
   },
   "outputs": [],
   "source": [
    "device, data_format = utils.device_and_data_format()\n",
    "train_data, val_data, test_data, x_test_raw = utils.get_CIFAR10_data(data_format)"
   ]
  },
  {
   "cell_type": "code",
   "execution_count": 4,
   "metadata": {
    "colab": {
     "autoexec": {
      "startup": false,
      "wait_interval": 0
     }
    },
    "colab_type": "code",
    "id": "mlwEz4LRry14"
   },
   "outputs": [],
   "source": [
    "model = ResNet(data_format)\n",
    "loss = tf.losses.sparse_softmax_cross_entropy\n",
    "optimizer = tf.train.AdamOptimizer(learning_rate=0.01)"
   ]
  },
  {
   "cell_type": "code",
   "execution_count": 5,
   "metadata": {
    "colab": {
     "autoexec": {
      "startup": false,
      "wait_interval": 0
     }
    },
    "colab_type": "code",
    "id": "HFTnccA4ry1-"
   },
   "outputs": [],
   "source": [
    "trainer = ModelTrainer(model, compute_accuracy, loss, optimizer, val_data, val_data, val_data)"
   ]
  },
  {
   "cell_type": "code",
   "execution_count": null,
   "metadata": {
    "colab": {
     "autoexec": {
      "startup": false,
      "wait_interval": 0
     },
     "base_uri": "https://localhost:8080/",
     "height": 723
    },
    "colab_type": "code",
    "id": "n8eykTERry2C",
    "outputId": "55aafd2b-b53d-4aee-f95d-9ef7a0c09160"
   },
   "outputs": [
    {
     "name": "stdout",
     "output_type": "stream",
     "text": [
      "\n",
      "\n",
      "Initial validation loss, accuracy: 30.485731, 0.081445\n",
      "\n",
      "Train time for epoch #1: 23.697370\n",
      "\n",
      "Validation loss, accuracy for epoch #1: 45.531409, 0.082227\n",
      "\n",
      "Train time for epoch #2: 19.978998\n",
      "\n",
      "Validation loss, accuracy for epoch #2: 8.621068, 0.117188\n",
      "\n",
      "Train time for epoch #3: 20.409041\n",
      "\n",
      "Validation loss, accuracy for epoch #3: 3.607762, 0.155078\n"
     ]
    }
   ],
   "source": [
    "# with tf.Session() as sess:\n",
    "#     sess.run(tf.global_variables_initializer())\n",
    "trainer.train(num_epochs=5)"
   ]
  },
  {
   "cell_type": "code",
   "execution_count": null,
   "metadata": {},
   "outputs": [],
   "source": []
  }
 ],
 "metadata": {
  "accelerator": "GPU",
  "colab": {
   "collapsed_sections": [],
   "default_view": {},
   "name": "CIFAR10.ipynb",
   "provenance": [],
   "version": "0.3.2",
   "views": {}
  },
  "kernelspec": {
   "display_name": "Python 3",
   "language": "python",
   "name": "python3"
  },
  "language_info": {
   "codemirror_mode": {
    "name": "ipython",
    "version": 3
   },
   "file_extension": ".py",
   "mimetype": "text/x-python",
   "name": "python",
   "nbconvert_exporter": "python",
   "pygments_lexer": "ipython3",
   "version": "3.6.5"
  }
 },
 "nbformat": 4,
 "nbformat_minor": 1
}
